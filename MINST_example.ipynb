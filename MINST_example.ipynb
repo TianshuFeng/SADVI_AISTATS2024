{
 "cells": [
  {
   "cell_type": "code",
   "execution_count": null,
   "id": "84d50d4c-c337-400a-bbd3-552c22c1db47",
   "metadata": {},
   "outputs": [],
   "source": [
    "from bvae import *"
   ]
  },
  {
   "cell_type": "code",
   "execution_count": null,
   "id": "f6f80a78-cabc-4c2f-91fa-dbdc49b1bbca",
   "metadata": {},
   "outputs": [],
   "source": [
    "#%% # prerequisites\n",
    "import torch\n",
    "import torch.nn as nn\n",
    "import torch.nn.functional as F\n",
    "import torch.optim as optim\n",
    "from torch.distributions.multinomial import Multinomial\n",
    "from torchvision import datasets, transforms\n",
    "from scipy.interpolate import BSpline\n",
    "import numpy as np\n",
    "from torch.distributions import MultivariateNormal, Normal, RelaxedOneHotCategorical\n",
    "from torch.utils.data import DataLoader, TensorDataset\n",
    "\n",
    "import matplotlib.pyplot as plt\n",
    "import seaborn as sns\n",
    "import pandas as pd\n",
    "import random\n",
    "\n",
    "import tqdm"
   ]
  },
  {
   "cell_type": "code",
   "execution_count": null,
   "id": "3ef8a556-508b-40b2-ae0d-ec40fd512343",
   "metadata": {},
   "outputs": [],
   "source": [
    "DEVICE = 'cuda' if torch.cuda.is_available() else 'cpu'\n",
    "\n",
    "DEVICE"
   ]
  },
  {
   "cell_type": "markdown",
   "id": "d98291bb-f154-4155-a681-a2943cfe27e1",
   "metadata": {},
   "source": [
    "## Data preparation"
   ]
  },
  {
   "cell_type": "code",
   "execution_count": null,
   "id": "6ab881da-5138-4245-b5a2-40c653a86876",
   "metadata": {},
   "outputs": [],
   "source": [
    "minst_dir = './'\n",
    "\n",
    "train_dataset = datasets.MNIST(root=minst_dir,\n",
    "                               train=True, transform=transforms.ToTensor(), download=True)\n",
    "\n",
    "test_dataset = datasets.MNIST(root=minst_dir, \n",
    "                               train=False, transform=transforms.ToTensor(), download=False)"
   ]
  },
  {
   "cell_type": "code",
   "execution_count": null,
   "id": "7ecde2d8-7794-4024-b2f1-ecc40faff074",
   "metadata": {},
   "outputs": [],
   "source": [
    "batch_size = 32\n",
    "\n",
    "train_loader = torch.utils.data.DataLoader(dataset=train_dataset, batch_size=batch_size, shuffle=True)\n",
    "test_loader = torch.utils.data.DataLoader(dataset=test_dataset, batch_size=batch_size, shuffle=False)"
   ]
  },
  {
   "cell_type": "markdown",
   "id": "9ed24ab0",
   "metadata": {},
   "source": [
    "## Quick test"
   ]
  },
  {
   "cell_type": "code",
   "execution_count": null,
   "id": "8ba1275b-cc5b-4834-a658-7e02432ac7c0",
   "metadata": {
    "scrolled": true,
    "tags": []
   },
   "outputs": [],
   "source": [
    "torch.manual_seed(0)\n",
    "random.seed(0)\n",
    "np.random.seed(0)\n",
    "\n",
    "bvae = BVAE(784, hidden_dim=[512, 256], z_dim=8, device = DEVICE)\n",
    "optimizer = optim.Adam(bvae.parameters())\n",
    "\n",
    "# bvae.burn_in(train_loader)\n",
    "\n",
    "for epoch in range(1, 11):\n",
    "    bvae.train_model(epoch = epoch, train_loader = train_loader, T=5, coef_spline_penalty=10, optimizer = optimizer, temperature = 0.1)\n",
    "    bvae.test_model(test_loader)"
   ]
  },
  {
   "cell_type": "code",
   "execution_count": null,
   "id": "70867396-ff3d-4924-87a1-89c03789aa15",
   "metadata": {},
   "outputs": [],
   "source": [
    "(data, label) = next(iter(test_loader))"
   ]
  },
  {
   "cell_type": "code",
   "execution_count": null,
   "id": "88e118d0",
   "metadata": {},
   "outputs": [],
   "source": [
    "recon_mean, recon_var, coef_spl, weights, \\\n",
    "    z_sample_approx, pdf_approx, z_std = bvae.forward(data.to(DEVICE).view(-1, 784).unsqueeze(0), 0.1)\n",
    "sample = recon_mean.detach()\n",
    "plt.imshow(  sample.cpu().view(batch_size, 1, 28, 28)[9].permute(1, 2, 0)  )\n"
   ]
  },
  {
   "cell_type": "code",
   "execution_count": null,
   "id": "779c3d94",
   "metadata": {},
   "outputs": [],
   "source": []
  }
 ],
 "metadata": {
  "kernelspec": {
   "display_name": "general",
   "language": "python",
   "name": "python3"
  },
  "language_info": {
   "codemirror_mode": {
    "name": "ipython",
    "version": 3
   },
   "file_extension": ".py",
   "mimetype": "text/x-python",
   "name": "python",
   "nbconvert_exporter": "python",
   "pygments_lexer": "ipython3",
   "version": "3.10.6"
  }
 },
 "nbformat": 4,
 "nbformat_minor": 5
}
